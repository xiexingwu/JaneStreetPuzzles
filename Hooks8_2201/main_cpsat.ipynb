{
 "cells": [
  {
   "cell_type": "markdown",
   "metadata": {},
   "source": [
    "# README\n",
    "This document does not correctly solve the problem. No constraint equation found for the L-shape of hooks.\n",
    "\n",
    "Instead, see `main.py`, where all hook configurations are generated, and `NumberPlacementSolver.py` is used to place the values within the hooks."
   ]
  },
  {
   "cell_type": "markdown",
   "metadata": {},
   "source": [
    "#### Load CP-SAT and test values"
   ]
  },
  {
   "cell_type": "code",
   "execution_count": 1,
   "metadata": {},
   "outputs": [],
   "source": [
    "from ortools.sat.python import cp_model\n",
    "model = cp_model.CpModel()\n",
    "solver = cp_model.CpSolver()\n",
    "\n",
    "from tests import ex_vals, ex_vals_list, ex_hook, ex_grid\n",
    "grid = ex_grid\n",
    "vals_list = ex_vals_list\n",
    "N, _ = grid.shape"
   ]
  },
  {
   "cell_type": "markdown",
   "metadata": {},
   "source": [
    "#### Problem setup\n",
    "**Grid sum**\n",
    "* The matrix is filled with one 1's, two 2's, ..., and $N$-many $N$'s. \n",
    "* The sum of all values is $\\sum_{i=1}^{N} i^2 = \\frac{N (N+1) (2N+1)}{6}$."
   ]
  },
  {
   "cell_type": "code",
   "execution_count": 2,
   "metadata": {},
   "outputs": [],
   "source": [
    "from itertools import product\n",
    "\n",
    "ngrids = grid.max()\n",
    "gridsum_target = N*(N+1)*(2*N+1)//(6*ngrids)\n",
    "num_adjs = N * (N+1) - 2\n",
    "\n",
    "Nrange = [i+1 for i in range(N)] # (1 to N)\n",
    "Vrange = [i for i in range(N+1)] # value (0 to N)\n",
    "Grange = [i+1 for i in range(ngrids)] # grid index\n",
    "Arange = [i for i in range(5)] # number of adjacents (0 to 4)\n",
    "\n",
    "RC   = list(product(*[Nrange]*2))\n",
    "RCHV = list(product(*[Nrange]*3, Vrange))\n",
    "RCHA = list(product(*[Nrange]*3, Arange))"
   ]
  },
  {
   "cell_type": "markdown",
   "metadata": {},
   "source": [
    "#### Setup variables:\n",
    "* $x_{r,c,h,v} = 1$ $\\Leftrightarrow$ cell $(r,c)$ belongs to hook $h$ and contains value $v$.\n",
    "    * Note that $v=0$ is used to indicate that no value is in a cell.\n",
    "* $y_{r,c,h,a} = 1$ $\\Leftrightarrow$ cell $(r,c)$ belongs to hook $h$ and has $\\leq a$ adjacent non-zero values.\n",
    "    * The idea of the $\\leq a$ is so that adjacencies of cells with 0's can potentially be ignored by setting them to 0.\n",
    "    * For the matrix to contain a single connected component while satisfying the sparsity constraint (i.e. at least one zero in every $2 \\times 2$ sub-matrix), the total number of adjacencies is $n_{adj} = N (N+1) - 2$. \n",
    "        * The proof is straight-forward using recursion. Consider a component of size $k$ with $n_{adj}(k)$ adjacencies. \n",
    "        * Adding the $(k+1)$-th value adds exactly 2 adjacencies: one for to the new value added and one for the component of size $k$ --- recall the $(k+1)$-th value cannot touch two existing components, since that will violate the sparsity constraint. \n",
    "        * This gives $n_{adj} (k+1) = n_{adj} (k) + 2$. \n",
    "        * With $n_{adj} (1) = 0$, it follows that $n_{adj} (k) = 2 (k-1) $.\n",
    "        * With one 1, two 2, ..., $N$-many $N$'s, there are a total of $\\sum_{i=1}^{N} i = \\frac{1}{2} N(N+1)$ values, so the total adjacencies is $N (N+1) - 2$\n",
    "* $m_{h,v} = 1$ $\\Leftrightarrow$ cells in hook $h$ can only contain $v$ (or no value at all).\n",
    "    * Value of $m_{h,0}$ is irrelevant"
   ]
  },
  {
   "cell_type": "code",
   "execution_count": 3,
   "metadata": {},
   "outputs": [],
   "source": [
    "x = {}\n",
    "for r,c,h,v in RCHV:\n",
    "    x[r,c,h,v] = model.NewBoolVar(f'x[{r},{c},{h},{v}]')\n",
    "\n",
    "y = {}\n",
    "for r,c,h,a in RCHA:\n",
    "    y[r,c,h,a] = model.NewBoolVar(f'y[{r},{c},{h},{a}]')\n",
    "\n",
    "m = {}\n",
    "for h,v in product(Nrange, Vrange):\n",
    "    m[h,v] = model.NewBoolVar(f'm[{h},{v}]')\n",
    "\n",
    "## Max number of adjacencies\n",
    "for r,c in RC:\n",
    "    counted_adjs = sum(a*y[r,c,h,a] for h in Nrange for a in Arange)\n",
    "    max_adjs = sum(\n",
    "        (x[r-1,c  ,h,v] if r-1>=1 else 0) +\n",
    "        (x[r+1,c  ,h,v] if r+1<=N else 0) +\n",
    "        (x[r  ,c-1,h,v] if c-1>=1 else 0) +\n",
    "        (x[r  ,c+1,h,v] if c+1<=N else 0)\n",
    "        for h in Nrange for v in Vrange if v > 0)\n",
    "    model.Add(counted_adjs <= max_adjs)\n",
    "\n",
    "# (h) should correspond between x and y for each (r,j)\n",
    "for r,c in RC:\n",
    "    for h in Nrange:\n",
    "        model.Add(sum(y[r,c,h,a] for a in Arange) == sum(x[r,c,h,v] for v in Vrange if v > 0))\n",
    "        # pass\n",
    "\n",
    "## CONNECTEDNESS constraint (2(N-1) total adjacencies after double counting, assuming SPARSITY constraint holds)\n",
    "adjs = (a*y[r,c,h,a] for r,c in RC for h in Nrange for a in Arange)\n",
    "model.Add(sum(adjs) == num_adjs)\n",
    "\n",
    "# only points with non-zero values should have neighbors (minimise number of activated y)\n",
    "objective = sum([y[r,c,h,a] for r,c,h,a in RCHA])\n",
    "model.Minimize(objective)"
   ]
  },
  {
   "cell_type": "markdown",
   "metadata": {},
   "source": [
    "#### Uniqueness constraints\n",
    "* Each cell $(r,c)$ should only be associated with one hook $h$ and one value $v$.\n",
    "* Each cell $(r,c)$ should only be associated with at most one $a$ (max number of adjacencies).\n",
    "* Each hook $h$ maps exactly to a non-zero $v$, and vice-versa."
   ]
  },
  {
   "cell_type": "code",
   "execution_count": 4,
   "metadata": {},
   "outputs": [],
   "source": [
    "## UNIQUENESS constraints\n",
    "# each (r,c) has one unique (h,v)\n",
    "for r,c in RC:\n",
    "    model.AddExactlyOne(x[r,c,h,v] for h in Nrange for v in Vrange)\n",
    "# each (r,c) cannot have multiple max adjacencies\n",
    "for r,c in RC:\n",
    "    model.AddAtMostOne(y[r,c,h,a] for h in Nrange for a in Arange) \n",
    "# each (h) maps to 1 positive (v)\n",
    "for v in Vrange:\n",
    "    if v > 0:\n",
    "        model.AddExactlyOne(m[h,v] for h in Nrange)\n",
    "for h in Nrange:\n",
    "        model.AddExactlyOne(m[h,v] for v in Vrange if v > 0)"
   ]
  },
  {
   "cell_type": "markdown",
   "metadata": {},
   "source": [
    "#### Sparsity constraint\n",
    "For each $2 \\times 2$ sub-matrix, check that the total number non-zero values is no more than 3."
   ]
  },
  {
   "cell_type": "code",
   "execution_count": 5,
   "metadata": {},
   "outputs": [],
   "source": [
    "## SPARSITY constraint (one zero in every 2x2 submatrix)\n",
    "for r,c in RC:\n",
    "    if r < N and c < N:\n",
    "        mat22 = (x[r  ,c,h,v] + x[r  ,c+1,h,v] +\n",
    "                 x[r+1,c,h,v] + x[r+1,c+1,h,v]\n",
    "                 for h in Nrange for v in Vrange if v > 0)\n",
    "        # model.Add(sum(mat22) <= 3)"
   ]
  },
  {
   "cell_type": "markdown",
   "metadata": {},
   "source": [
    "#### Constrain hooks\n",
    "**Shape**\n",
    "* Each hook of size $h$ has exactly $4h-4$ adjacencies (each of $2h-3$ interior cells have $2$, and each of the $2$ end cells have $1$).\n",
    "* Each cell in a hook can have at most 2 adjacencies (i.e. no T's or crossroads).\n",
    "* Each (h) has exactly one turn.\n",
    "    * A turn is defined if cell $s=(r,c)$ is non-zero and either $e=(r-1, c+1)$ or $e'=(r+1, c+1)$ is non-zero. \n",
    "\n",
    "        ```\n",
    "        s     e   sx   xe\n",
    "        xe'  sx    e'  s\n",
    "        ```\n",
    "**Values**\n",
    "* If hook $h$ is associated with value $v>0$, then it contains exactly $v$-many $v$'s."
   ]
  },
  {
   "cell_type": "code",
   "execution_count": 6,
   "metadata": {},
   "outputs": [],
   "source": [
    "## HOOK constraints\n",
    "for h in Nrange:\n",
    "    # Shape\n",
    "    # model.Add(sum(a*y[r,c,h,a] for r,c in RC for a in Arange) == 4*h-4)\n",
    "    for r,c in RC:\n",
    "        model.Add(sum(a*y[r,c,h,a] for a in Arange) <= 2)\n",
    "    # (2h-1)E(ij) - E(i)E(j) = (h-1)^2 h^2 / 4\n",
    "    model.Add((2*h-1)*sum(r*c*x[r,c,h,a] for r,c in RC) - sum(r*x[r,c,h,a] for r,c in RC) * sum(c*x[r,c,h,a] for r,c in RC) == (h-1)**2 * h**2 // 4)\n",
    "\n",
    "    # Value\n",
    "    for v in Vrange:\n",
    "        if v > 0:\n",
    "            model.Add(sum(x[r,c,h,v] for r,c in RC) == v*m[h,v])"
   ]
  },
  {
   "cell_type": "markdown",
   "metadata": {},
   "source": [
    "#### Instance constraints\n",
    "* Array $[i,j]$ contains value $v'$:\n",
    "    * $\\sum_h x_{i+1, j+1, h, v'} = 1$\n",
    "* Sum of values in each sub-grid $g$ sums to the correct value:\n",
    "    * $\\sum_{h,v} \\sum_{(r', c') \\in g} v x_{r',c',h,v} = \\frac{N(N-1)(2N+1)}{6 n_{grid}}$ "
   ]
  },
  {
   "cell_type": "code",
   "execution_count": 7,
   "metadata": {},
   "outputs": [],
   "source": [
    "## INSTANCE constraints\n",
    "# prescribed values\n",
    "for (i,j), val in vals_list:\n",
    "    model.AddExactlyOne(x[i+1,j+1,h,val] for h in Nrange)\n",
    "# correct grid sum\n",
    "for g in Grange:\n",
    "    subgrid_vals = (v*x[r,c,h,v] for r,c,h,v in RCHV if grid[r-1,c-1] == g)\n",
    "    model.Add(sum(subgrid_vals) == gridsum_target)"
   ]
  },
  {
   "cell_type": "markdown",
   "metadata": {},
   "source": [
    "#### Solve"
   ]
  },
  {
   "cell_type": "code",
   "execution_count": 8,
   "metadata": {},
   "outputs": [
    {
     "name": "stdout",
     "output_type": "stream",
     "text": [
      "VV unsatisifed\n",
      "Total adjacencies unsatisifed\n",
      "-------hook------\n",
      "[1 2 1 5 5]\n",
      "[1 2 3 1 1]\n",
      "[1 1 1 1 1]\n",
      "[3 5 2 2 1]\n",
      "[1 1 4 1 1]\n",
      "-------val------\n",
      "[0 4 5 3 3]\n",
      "[0 4 2 5 5]\n",
      "[0 0 0 0 0]\n",
      "[2 3 4 4 0]\n",
      "[5 0 1 5 0]\n"
     ]
    }
   ],
   "source": [
    "from main_cpsat import assignSol, checkVV, checkAdj\n",
    "status = solver.Solve(model)\n",
    "if status == cp_model.INFEASIBLE:\n",
    "    print('No solution found')\n",
    "elif status == cp_model.FEASIBLE or status == cp_model.OPTIMAL:\n",
    "    X,Y,A,M,H,V = assignSol(solver, N, x, y, m)\n",
    "    if not checkVV(V):\n",
    "        print('VV unsatisifed')\n",
    "    if not checkAdj(V):\n",
    "        print('Total adjacencies unsatisifed')\n",
    "\n",
    "    print('-------hook------')\n",
    "    for row in H:\n",
    "        print(row)\n",
    "    print('-------val------')\n",
    "    for row in V:\n",
    "        print(row)\n",
    "else:\n",
    "    print(f'Unknown status: {status}')"
   ]
  },
  {
   "cell_type": "code",
   "execution_count": 9,
   "metadata": {},
   "outputs": [
    {
     "data": {
      "text/plain": [
       "True"
      ]
     },
     "execution_count": 9,
     "metadata": {},
     "output_type": "execute_result"
    }
   ],
   "source": [
    "checkAdj(ex_vals)"
   ]
  }
 ],
 "metadata": {
  "interpreter": {
   "hash": "9a43435caae60fea53d11a82b753bd3c29acb94fa6e3d434f7e13e54a27a6879"
  },
  "kernelspec": {
   "display_name": "Python 3.9.9 64-bit ('3.9.9')",
   "language": "python",
   "name": "python3"
  },
  "language_info": {
   "codemirror_mode": {
    "name": "ipython",
    "version": 3
   },
   "file_extension": ".py",
   "mimetype": "text/x-python",
   "name": "python",
   "nbconvert_exporter": "python",
   "pygments_lexer": "ipython3",
   "version": "3.9.9"
  },
  "orig_nbformat": 4
 },
 "nbformat": 4,
 "nbformat_minor": 2
}
