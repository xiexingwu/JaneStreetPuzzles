{
 "cells": [
  {
   "cell_type": "markdown",
   "metadata": {},
   "source": [
    "# README\n",
    "This document describes the constraint equations for cells to satisfy the hook pattern."
   ]
  },
  {
   "cell_type": "code",
   "execution_count": 1,
   "metadata": {},
   "outputs": [],
   "source": [
    "from ortools.sat.python import cp_model\n",
    "model = cp_model.CpModel()\n",
    "solver = cp_model.CpSolver()\n",
    "\n",
    "N = 9\n",
    "\n",
    "from itertools import product\n",
    "\n",
    "Nrange = [i+1 for i in range(N)] # (1 to N)\n",
    "ijrange   = list(product(*[Nrange]*2))"
   ]
  },
  {
   "cell_type": "markdown",
   "metadata": {},
   "source": [
    "## Variables\n",
    "* $x_{i,j,h} = 1$ $\\Leftrightarrow$ cell $(i,j)$ belongs to hook $h$.\n",
    "    * For each $(i,j)$, only one $(h)$ can be true, i.e. $\\sum_{h} x_{i,j,h} = 1$ for all $(i,j)$.\n",
    "    * For each $(h)$, exactly $2h-1$ values should be true, i.e. $\\sum_{i,j} x_{i,j,h} = 2h-1$ for all $(h)$. \n",
    "        * This may appear redundant given the later constraints on the shape of the hook, but since hook $(h=1)$ doesn't really have a shape, it doesn't have a shape constraint. Thus, this constraint ensures that $1$ appears in the solution.\n",
    "* $d_{i,j,h} = 1$ $\\Leftrightarrow$ cells $(i,j)$ and $(i+1,j)$ both belong to hook $h$, i.e. $(i,j)$ has a neighbor when looking down.\n",
    "    * Can be allowed if $2d_{i,j,h} \\leq x_{i,j,h} + x_{i+1,j,h}$ for all $(i,j,h)$.\n",
    "* $r_{i,j,h} = 1$ $\\Leftrightarrow$ cells $(i,j)$ and $(i,j+1)$ both belong to hook $h$, i.e. $(i,j)$ has a neighbor when looking right.\n",
    "    * Can be allowed if $2r_{i,j,h} \\leq x_{i,j,h} + x_{i,j+1,h}$ for all $(i,j,h)$.\n",
    "* $z_{i,j,h} = 1$ $\\Leftrightarrow$ if the vertical leg of hook $(h)$ occupies column $(j)$, and the horizontal leg occupies row $(i)$. \n",
    "    * For each $(h)$, only one $(i,j)$ can be turned on, i.e. $\\sum_{i,j} z_{i,j,h} = 1$ for all $h$. \n",
    "    * Note that for $(h=1)$, the hook technically doesn't have a vertical or horizontal leg."
   ]
  },
  {
   "cell_type": "code",
   "execution_count": 2,
   "metadata": {},
   "outputs": [],
   "source": [
    "x = {}\n",
    "z = {}\n",
    "d = {}\n",
    "r = {}\n",
    "for i,j in ijrange:\n",
    "    for h in Nrange:\n",
    "        x[i,j,h] = model.NewBoolVar(f'x[{i},{j},{h}]')\n",
    "        z[i,j,h] = model.NewBoolVar(f'z[{i},{j},{h}]')\n",
    "        if i < N:\n",
    "            d[i,j,h] = model.NewBoolVar(f'd[{i},{j},{h}]')\n",
    "        if j < N:\n",
    "            r[i,j,h] = model.NewBoolVar(f'r[{i},{j},{h}]')\n",
    "\n",
    "# uniqueness\n",
    "for i,j in ijrange:\n",
    "    model.AddExactlyOne(x[i,j,h] for h in Nrange)\n",
    "\n",
    "for h in Nrange: \n",
    "    # each hook has size 2h-1\n",
    "    model.Add(sum(x[i,j,h] for i,j in ijrange) == 2*h-1)\n",
    "\n",
    "    # each hook has one associated (row, col)\n",
    "    model.AddExactlyOne(z[i,j,h] for i,j in ijrange)\n",
    "\n",
    "# adjacency\n",
    "for h in Nrange:\n",
    "    for i,j in ijrange:\n",
    "        if i < N:\n",
    "            model.Add(2*d[i,j,h] <= x[i,j,h] + x[i+1,j,h])\n",
    "        if j < N:\n",
    "            model.Add(2*r[i,j,h] <= x[i,j,h] + x[i,j+1,h])\n",
    "    model.Add(sum(d[i,j,h] for i,j in ijrange if i < N) == h-1)\n",
    "    model.Add(sum(r[i,j,h] for i,j in ijrange if j < N) == h-1)"
   ]
  },
  {
   "cell_type": "markdown",
   "metadata": {},
   "source": [
    "## Summary of method\n",
    "* To ensure all hooks are connected, it is sufficient to require exactly $h-1$ down-adjacencies and $h-1$ right-adjacencies for each hook.\n",
    "    * $\\sum_{i,j} d_{i,j,h} = 2h-1$ for all $h$.\n",
    "    * $\\sum_{i,j} r_{i,j,h} = 2h-1$ for all $h$.\n",
    "    * The above assumes that one hook of each size ($1$ to $N$) exists in the $N \\times N$ grid. \n",
    "* The vertical leg of a hook should occupy exactly one column, so summing $d_{i,j,h}$ over a column $j$ must give either $0$ or $h-1$. \n",
    "    This is where we use $z_{i,j,h}$ to our advantage, since $\\sum_i z_{i,j,h}$ will be $1$ if column $(j)$ is used for the leg, and $0$ otherwise.\n",
    "    * $\\sum_{j} d_{i,j,h} = (h-1) \\sum_{i} z_{i,j,h}$ for all $(i)$ for all $(h>1)$.\n",
    "* The horizontal leg is treated similarly.\n",
    "    * $\\sum_{i} d_{i,j,h} = (h-1) \\sum_{j} z_{i,j,h}$ for all $(j)$ for all $(h>1)$.\n"
   ]
  },
  {
   "cell_type": "code",
   "execution_count": 3,
   "metadata": {},
   "outputs": [],
   "source": [
    "## HOOK constraints\n",
    "for h in Nrange:\n",
    "    if h == 1: # no shape constraint for hook 1\n",
    "        continue\n",
    "    for j in Nrange:\n",
    "        model.Add(sum(d[i,j,h] for i in Nrange if i < N) <= (h-1) * sum(z[i,j,h] for i in Nrange))\n",
    "    for i in Nrange:\n",
    "        model.Add(sum(r[i,j,h] for j in Nrange if j < N) <= (h-1) * sum(z[i,j,h] for j in Nrange))"
   ]
  },
  {
   "cell_type": "markdown",
   "metadata": {},
   "source": [
    "## Test solution"
   ]
  },
  {
   "cell_type": "code",
   "execution_count": 4,
   "metadata": {},
   "outputs": [
    {
     "name": "stdout",
     "output_type": "stream",
     "text": [
      "[[1 2 3 4 5 6 7 8 9]\n",
      " [2 2 3 4 5 6 7 8 9]\n",
      " [3 3 3 4 5 6 7 8 9]\n",
      " [4 4 4 4 5 6 7 8 9]\n",
      " [5 5 5 5 5 6 7 8 9]\n",
      " [6 6 6 6 6 6 7 8 9]\n",
      " [7 7 7 7 7 7 7 8 9]\n",
      " [8 8 8 8 8 8 8 8 9]\n",
      " [9 9 9 9 9 9 9 9 9]]\n"
     ]
    }
   ],
   "source": [
    "def assignSol(solver, N, x,z,r,d):\n",
    "    import numpy as np\n",
    "    X = np.zeros((N, N, N+1), dtype=int)\n",
    "    H = np.zeros((N, N), dtype=int)\n",
    "    R = np.zeros((N, N), dtype=int)\n",
    "    D = np.zeros((N, N), dtype=int)\n",
    "    Z = np.zeros((N, N), dtype=int)\n",
    "    Z2 = [None for i in range(N+1)]\n",
    "    for i,j in ijrange:\n",
    "        for h in Nrange:\n",
    "            if solver.BooleanValue(x[i,j,h]):\n",
    "                # print(f\"{i},{j} -> {h}\")\n",
    "                X[i-1,j-1,h] += 1\n",
    "                H[i-1,j-1] = h\n",
    "            if i < N and solver.BooleanValue(d[i,j,h]):\n",
    "                D[i-1,j-1] += h\n",
    "            if j < N and solver.BooleanValue(r[i,j,h]):\n",
    "                R[i-1,j-1] += h\n",
    "            if solver.BooleanValue(z[i,j,h]):\n",
    "                Z[i-1,j-1] = h\n",
    "                Z2[h] = (i,j)\n",
    "\n",
    "    return X, H, Z, R, D\n",
    "\n",
    "status = solver.Solve(model)\n",
    "if status == cp_model.INFEASIBLE:\n",
    "    print('No solution found')\n",
    "else:\n",
    "    X,H,Z,R,D = assignSol(solver, N, x,z,r,d)\n",
    "print(H)"
   ]
  }
 ],
 "metadata": {
  "interpreter": {
   "hash": "9a43435caae60fea53d11a82b753bd3c29acb94fa6e3d434f7e13e54a27a6879"
  },
  "kernelspec": {
   "display_name": "Python 3.9.9 64-bit ('3.9.9')",
   "language": "python",
   "name": "python3"
  },
  "language_info": {
   "codemirror_mode": {
    "name": "ipython",
    "version": 3
   },
   "file_extension": ".py",
   "mimetype": "text/x-python",
   "name": "python",
   "nbconvert_exporter": "python",
   "pygments_lexer": "ipython3",
   "version": "3.9.9"
  },
  "orig_nbformat": 4
 },
 "nbformat": 4,
 "nbformat_minor": 2
}
