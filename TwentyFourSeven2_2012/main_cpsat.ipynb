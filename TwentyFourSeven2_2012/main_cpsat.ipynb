{
 "cells": [
  {
   "cell_type": "markdown",
   "metadata": {},
   "source": [
    "# README\n",
    "This document explains the theory to solve once instance of the problem. Most of the code is implemented in `TwentyFourSevenSolver.py`.\n",
    "\n",
    "To solve the full puzzle (i.e. all four squares), run `main.py`. "
   ]
  },
  {
   "cell_type": "markdown",
   "metadata": {},
   "source": [
    "#### Load CP-SAT and sample data (top left grid)"
   ]
  },
  {
   "cell_type": "code",
   "execution_count": null,
   "metadata": {},
   "outputs": [],
   "source": [
    "from ortools.sat.python import cp_model\n",
    "model = cp_model.CpModel()\n",
    "\n",
    "import data\n",
    "vals_list = data.vals_list_1\n",
    "views = data.views_1"
   ]
  },
  {
   "cell_type": "markdown",
   "metadata": {},
   "source": [
    "#### Problem domain\n",
    "The problem is set on a $7 \\times 7$ grid. We will use row-major one-dimensional indexing to label the cells.\n",
    "\n",
    "The values to be filled in are 1 to 7, with 0 being used to represent an empty cell.\n",
    "\n",
    "We will also need to track adjacencies of cells. For right-adjacencies, the adjacency matrix is $N \\times N-1$. For down-adjacencies, it is $N-1 \\times N$."
   ]
  },
  {
   "cell_type": "code",
   "execution_count": null,
   "metadata": {},
   "outputs": [],
   "source": [
    "N = 7 # size of grid\n",
    "\n",
    "def n2ij(n, N=N):\n",
    "    i = n // N\n",
    "    j = n - i*N\n",
    "    return (i,j)\n",
    "\n",
    "def ij2n(i, j, N=N):\n",
    "    return i*N + j\n",
    "    \n",
    "from itertools import product\n",
    "\n",
    "nrange = [n for n in range(N**2)] # (0 to N^2-1)\n",
    "vrange = [v for v in range(8)] # (0 to 7)\n",
    "erange = list(product(range(N), range(N-1))) # (0 to N-1) x (0 to N-2)"
   ]
  },
  {
   "cell_type": "markdown",
   "metadata": {},
   "source": [
    "#### Setup variables:\n",
    "* $x_{n,v} = 1$ $\\Leftrightarrow$ cell $(n)$ contains value $(v)$.\n",
    "\n",
    "* $y_{n_1, n_2} = 1$ $\\Leftrightarrow$ non-empty cells $(n_1)$ and $(n_2)$ are adjacent."
   ]
  },
  {
   "cell_type": "code",
   "execution_count": null,
   "metadata": {},
   "outputs": [],
   "source": [
    "x = {}\n",
    "for n in nrange:\n",
    "    for v in vrange:\n",
    "        x[n,v] = model.NewBoolVar(f'x[{n},{v}]')\n",
    "y = {}\n",
    "for i,j in erange: \n",
    "    nl = ij2n(i  , j  )\n",
    "    nr = ij2n(i  , j+1)\n",
    "    nu = ij2n(j  , i  )\n",
    "    nd = ij2n(j+1, i  )\n",
    "    y[nl,nr] = model.NewBoolVar(f'y[{nl},{nr}]')\n",
    "    y[nu,nd] = model.NewBoolVar(f'y[{nu},{nd}]')"
   ]
  },
  {
   "cell_type": "markdown",
   "metadata": {},
   "source": [
    "#### Easy constraints on $x$ (refer to `Hooks8` for more details)\n",
    "* Each cell $(n)$ should only be associated with one $(v)$.\n",
    "* Each positive $(v)$ should appear $(v)$ times.\n",
    "* There should be 4 positive $(v)$ in each row and each column.\n",
    "* The sum of all $(v)$ on each row and column should be 20.\n",
    "* For each $2 \\times 2$ sub-matrix, check that the total number non-zero values is no more than 3."
   ]
  },
  {
   "cell_type": "code",
   "execution_count": null,
   "metadata": {},
   "outputs": [],
   "source": [
    "# each (n) has exactly one (v) (including 0)\n",
    "for n in nrange:\n",
    "    model.AddExactlyOne(x[n,v] for v in vrange)\n",
    "\n",
    "# each (v>0) allocated (v) times\n",
    "for v in vrange:\n",
    "    if v > 0:\n",
    "        model.Add(sum(x[n,v] for n in nrange) == v)\n",
    "\n",
    "# four (v>0) per row/col, summing to 20\n",
    "for i in range(N):\n",
    "    model.Add(sum(  x[ij2n(i,j),v] for v in vrange for j in range(N) if v > 0) == 4)\n",
    "    model.Add(sum(v*x[ij2n(i,j),v] for v in vrange for j in range(N)) == 20)\n",
    "    model.Add(sum(  x[ij2n(j,i),v] for v in vrange for j in range(N) if v > 0) == 4)\n",
    "    model.Add(sum(v*x[ij2n(j,i),v] for v in vrange for j in range(N)) == 20)\n",
    "\n",
    "# no 2x2 filled subgrid\n",
    "for i,j in product(range(N-1), range(N-1)):\n",
    "    mat22 = (x[ij2n(i  ,j),v] + x[ij2n(i  ,j+1),v] +\n",
    "             x[ij2n(i+1,j),v] + x[ij2n(i+1,j+1),v]\n",
    "             for v in vrange if v > 0)\n",
    "    model.Add(sum(mat22) <= 3)"
   ]
  },
  {
   "cell_type": "markdown",
   "metadata": {},
   "source": [
    "#### Correct views on $x$\n",
    "Consider the requirement that when looking from the left of row $i$, the first value that appears must be some specified $v'$.\n",
    "\n",
    "Equivalently, we require for each column $j$ in row $i$ that\n",
    "1. If $v'$ has not appeared yet (for all $j' <j$), then no other $v>0$ can appear, i.e.\n",
    "    * $\\sum_{j'} \\sum_{v>0} x_{n, v} = 0$, where $n$ is the one-dimensional index coressponding to $(i,j')$.\n",
    "2. If $v'$ has already appeared, then there are no constraints on $v$.\n",
    "\n",
    "This can be done using the big-$M$, where we can essentially nullify a constraint once a desired state occurs, i.e.\n",
    "$$\n",
    "\\sum_{j'} \\sum_{v>0} x_{n, v} \\leq M \\sum_{j'} x_{n, v'}\n",
    "$$\n",
    "\n",
    "If we look from the right of a row, then we consider all $j' > j$. Looking from top and below, we simply consider in terms of $(i', j)$."
   ]
  },
  {
   "cell_type": "code",
   "execution_count": null,
   "metadata": {},
   "outputs": [],
   "source": [
    "def addViewConstraint(self, view, side):\n",
    "    if not view: # i.e. empty constraint\n",
    "        return\n",
    "    x = self.x\n",
    "    N = self.N\n",
    "    vrange = self.vrange\n",
    "\n",
    "    M = 10 # penalty for if target v appeared already (6 should be sufficient)\n",
    "\n",
    "    # left and top views just see head of row/col\n",
    "    if side == \"l\" or side == \"t\":\n",
    "        jprange = lambda j: range(j)\n",
    "    # right and bot views just see tail of row/col\n",
    "    elif side == \"r\" or side == \"b\":\n",
    "        jprange = lambda j: range(j+1, N)\n",
    "\n",
    "    # top and bottom look at columns, i.e. transposed\n",
    "    if side == \"t\" or side == \"b\":\n",
    "        ij2n = lambda i, j: ij2n(j,i)\n",
    "    elif side == \"l\" or side == \"r\":\n",
    "        ij2n = ij2n\n",
    "\n",
    "    for it, vt in view:\n",
    "        for j in range(N):\n",
    "            v_before  = sum(x[ij2n(it,jp),v ] for jp in jprange(j) for v in vrange if v not in (0, vt))\n",
    "            vt_before = sum(x[ij2n(it,jp),vt] for jp in jprange(j))\n",
    "            self.model.Add(v_before <= M*vt_before)\n",
    "\n",
    "## top-bot-left-right views correct\n",
    "addViewConstraint(views['top_view'], \"t\")\n",
    "addViewConstraint(views['bot_view'], \"b\")\n",
    "addViewConstraint(views['lft_view'], \"l\")\n",
    "addViewConstraint(views['rgt_view'], \"r\")"
   ]
  },
  {
   "cell_type": "markdown",
   "metadata": {},
   "source": [
    "#### Connected components\n",
    "* If either cell $(n_1)$ or $(n_2)$ are empty, then $y_{n_2,n_2}$ should be 0, i.e.\n",
    "    $$\n",
    "    2 y_{n_1,n_2} \\leq \\sum_{v > 0} x_{n_1, v} + x_{n_2, v}\n",
    "    $$\n",
    "    If $(n_1)$ and $(n_2)$ are both filled, this constraint alone does not force $y_{n_1,n_2}$ to 1, it merely **allows** it.\n",
    "* Given the sparsity constraint (i.e. no filled $2\\times 2$ submatrices), the total number of edges is simply one less than the total number of values filled in, i.e. $28-1=27$.\n",
    "    $$\n",
    "    \\sum_{n_1, n_2} y_{n_1,n_2} = 27\n",
    "    $$\n",
    "\n",
    "With these two constraints working together, all 27 edges which are allowed to exist will exist."
   ]
  },
  {
   "cell_type": "code",
   "execution_count": null,
   "metadata": {},
   "outputs": [],
   "source": [
    "for i,j in erange: \n",
    "    model.Add(2*y[nl,nr] <= sum(x[nl,v] + x[nr,v] for v in vrange if v != 0))\n",
    "    model.Add(2*y[nu,nd] <= sum(x[nu,v] + x[nd,v] for v in vrange if v != 0))\n",
    "\n",
    "# connected component (total edges = (nnz-1))\n",
    "nnz = sum(v for v in vrange) # number of elements = one 1, two 2, ... seven 7's, should be 28\n",
    "\n",
    "model.Add(\n",
    "    sum(\n",
    "        y[ij2n(i,j),ij2n(i, j+1)] + \n",
    "        y[ij2n(j,i),ij2n(j+1, i)]\n",
    "        for i,j in erange)\n",
    "    == nnz-1)"
   ]
  },
  {
   "cell_type": "markdown",
   "metadata": {},
   "source": [
    "#### Instance constraints\n",
    "* Cell $(n)$ contains value $(v)$:\n",
    "    * $x_{n,v}$ = 1"
   ]
  },
  {
   "cell_type": "code",
   "execution_count": null,
   "metadata": {},
   "outputs": [],
   "source": [
    "# prescribed values\n",
    "for (i,j), val in vals_list:\n",
    "    model.Add(x[ij2n(i,j),val] == 1)\n"
   ]
  },
  {
   "cell_type": "markdown",
   "metadata": {},
   "source": [
    "#### Solve"
   ]
  },
  {
   "cell_type": "code",
   "execution_count": null,
   "metadata": {},
   "outputs": [],
   "source": [
    "# SOLVE\n",
    "solver = cp_model.CpSolver()\n",
    "status = solver.Solve(model)"
   ]
  }
 ],
 "metadata": {
  "interpreter": {
   "hash": "9a43435caae60fea53d11a82b753bd3c29acb94fa6e3d434f7e13e54a27a6879"
  },
  "kernelspec": {
   "display_name": "Python 3.9.9 64-bit ('3.9.9')",
   "language": "python",
   "name": "python3"
  },
  "language_info": {
   "codemirror_mode": {
    "name": "ipython",
    "version": 3
   },
   "file_extension": ".py",
   "mimetype": "text/x-python",
   "name": "python",
   "nbconvert_exporter": "python",
   "pygments_lexer": "ipython3",
   "version": "3.9.9"
  },
  "orig_nbformat": 4
 },
 "nbformat": 4,
 "nbformat_minor": 2
}
