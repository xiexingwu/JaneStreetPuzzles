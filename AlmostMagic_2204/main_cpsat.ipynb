{
 "cells": [
  {
   "cell_type": "markdown",
   "metadata": {},
   "source": [
    "# README\n",
    "\n",
    "## WARNING\n",
    "This method (CP-SAT) is very slow (about 30 minutes on M1 Pro). The mixed-integer programming (MIP) method took about 5 minutes.\n",
    "\n",
    "This document can be run directly to solve the problem. It contains the key mathematical theory and corresponding code snippets. "
   ]
  },
  {
   "cell_type": "markdown",
   "metadata": {},
   "source": [
    "#### Load CP-SAT and itertools"
   ]
  },
  {
   "cell_type": "code",
   "execution_count": 1,
   "metadata": {},
   "outputs": [],
   "source": [
    "from ortools.sat.python import cp_model\n",
    "model = cp_model.CpModel()\n",
    "solver = cp_model.CpSolver()\n",
    "\n",
    "from itertools import combinations"
   ]
  },
  {
   "cell_type": "markdown",
   "metadata": {},
   "source": [
    "#### Problem setup\n",
    "**Setup problem indexing**\n",
    "* Cells are indexed 1 to 28.\n",
    "* Each almost magic square consists of 9 indices.\n",
    "* slices to check the sums are pre-generated for convenience."
   ]
  },
  {
   "cell_type": "code",
   "execution_count": 2,
   "metadata": {},
   "outputs": [],
   "source": [
    "# indexes\n",
    "#      1,  2,  3\n",
    "#      4,  5,  6,  7,  8\n",
    "#  9, 10, 11, 12, 13, 14\n",
    "# 15, 16, 17, 18, 19, 20\n",
    "# 21, 22, 23, 24, 25\n",
    "#         26, 27, 28 \n",
    "#\n",
    "# Square 1\n",
    "sq1 = [\n",
    "     1, 2, 3,\n",
    "     4, 5, 6,\n",
    "    10,11,12]\n",
    "sq2 = [\n",
    "     6, 7, 8,\n",
    "    12,13,14,\n",
    "    18,19,20]\n",
    "sq3 = [\n",
    "     9,10,11,\n",
    "    15,16,17,\n",
    "    21,22,23]\n",
    "sq4 = [\n",
    "    17,18,19,\n",
    "    23,24,25,\n",
    "    26,27,28]\n",
    "sqs = [sq1, sq2, sq3, sq4]\n",
    "\n",
    "horzs = [slice(3*i, 3*i+3  ) for i in range(3)] # horizontal\n",
    "verts = [slice(  i,     9,3) for i in range(3)] # vertical\n",
    "diags = [slice(  0,     9,4), # main diag\n",
    "         slice(  2,     7,2)] # off diag\n"
   ]
  },
  {
   "cell_type": "markdown",
   "metadata": {},
   "source": [
    "#### Setup variables:\n",
    "* $x_{n,v} = 1$ $\\Leftrightarrow$ cell $n$ contains value $v$."
   ]
  },
  {
   "cell_type": "code",
   "execution_count": 3,
   "metadata": {},
   "outputs": [],
   "source": [
    "vmax = 1000 # don't bother looking higher than some number\n",
    "\n",
    "## Define and save variables\n",
    "nrange = [i+1 for i in range(28)]\n",
    "vrange = [i+1 for i in range(vmax)] \n",
    "x = {}\n",
    "for n in nrange:\n",
    "    for v in vrange:\n",
    "        x[n,v] = model.NewBoolVar(f'x[{n},{v}]')"
   ]
  },
  {
   "cell_type": "markdown",
   "metadata": {},
   "source": [
    "#### Uniqueness constraint\n",
    "* Each value $v$ can only appear at most once.\n",
    "* Each cell must have a value $v$."
   ]
  },
  {
   "cell_type": "code",
   "execution_count": 4,
   "metadata": {},
   "outputs": [],
   "source": [
    "## Uniqueness\n",
    "for v in vrange:\n",
    "    model.Add(sum(x[n,v] for n in nrange) <= 1)\n",
    "for n in nrange:\n",
    "    model.Add(sum(x[n,v] for v in vrange) == 1)"
   ]
  },
  {
   "cell_type": "markdown",
   "metadata": {},
   "source": [
    "### Sum constraints (for each almost magic square)\n",
    "* For each square, we first create expressions for all horizontal, diagonal sums. \n",
    "* Given any two sum, the absolute value of their difference must be no more than 1. While the absolute value function is nonlinear, we can write the constraint piece-wise, i.e. in two parts:\n",
    "    * $sum_1 - sum_2 \\leq 1$\n",
    "    * $sum_1 - sum_2 \\geq -1$\n",
    "* We should also not bother looking for worse solutions than the example one\n",
    "    * $\\sum_{n,v} v x_{n,v} \\leq 1828$"
   ]
  },
  {
   "cell_type": "code",
   "execution_count": 5,
   "metadata": {},
   "outputs": [
    {
     "data": {
      "text/plain": [
       "<ortools.sat.python.cp_model.Constraint at 0x12fdbaeb0>"
      ]
     },
     "execution_count": 5,
     "metadata": {},
     "output_type": "execute_result"
    }
   ],
   "source": [
    "## Sums constraints\n",
    "for sq in sqs:\n",
    "    sums = [sum(v*x[n,v] for n in sq[sum_slice] for v in vrange) for sum_slice in horzs + verts + diags]\n",
    "    for sum1, sum2 in combinations(sums, 2):\n",
    "        model.Add(sum1 - sum2 <=  1)\n",
    "        model.Add(sum1 - sum2 >= -1)\n",
    "\n",
    "model.Add(sum(v*x[n,v] for n in nrange for v in vrange) <= 1828)\n"
   ]
  },
  {
   "cell_type": "markdown",
   "metadata": {},
   "source": [
    "#### Objective function\n",
    "Minimize $\\sum_n x_n$"
   ]
  },
  {
   "cell_type": "code",
   "execution_count": 8,
   "metadata": {},
   "outputs": [
    {
     "name": "stderr",
     "output_type": "stream",
     "text": [
      "^C pressed 1 times. Interrupting the solver. Press 3 times to force termination.\n"
     ]
    }
   ],
   "source": [
    "model.Minimize(sum(v*x[n,v] for n in nrange for v in vrange))\n",
    "status = solver.Solve(model)"
   ]
  },
  {
   "cell_type": "markdown",
   "metadata": {},
   "source": [
    "#### Store and save the solution"
   ]
  },
  {
   "cell_type": "code",
   "execution_count": 16,
   "metadata": {},
   "outputs": [],
   "source": [
    "import numpy as np\n",
    "def assignSol():\n",
    "    X = np.zeros((len(nrange), len(vrange)), dtype=int)\n",
    "    V = np.zeros((len(nrange)), dtype=int)\n",
    "    for n in nrange:\n",
    "        for v in vrange:\n",
    "            if solver.BooleanValue(x[n,v]):\n",
    "                X[n-1,v-1] = 1\n",
    "                V[n-1] += v\n",
    "    return V, X"
   ]
  },
  {
   "cell_type": "code",
   "execution_count": 17,
   "metadata": {},
   "outputs": [
    {
     "data": {
      "text/plain": [
       "array([26,  2, 34, 29, 21, 13,  4, 18, 24,  7, 39, 16, 12,  6, 37, 23,  9,\n",
       "        5, 19, 10,  8, 40, 22, 11,  1,  3, 17, 14])"
      ]
     },
     "execution_count": 17,
     "metadata": {},
     "output_type": "execute_result"
    }
   ],
   "source": [
    "V, X = assignSol()\n",
    "print(V)\n",
    "# [26,  2, 34, 29, 21, 13,  4, 18, 24,  7, 39, 16, 12,  6, 37, 23,  9,\n",
    "#        5, 19, 10,  8, 40, 22, 11,  1,  3, 17, 14]"
   ]
  }
 ],
 "metadata": {
  "interpreter": {
   "hash": "9a43435caae60fea53d11a82b753bd3c29acb94fa6e3d434f7e13e54a27a6879"
  },
  "kernelspec": {
   "display_name": "Python 3.9.9 64-bit ('3.9.9')",
   "language": "python",
   "name": "python3"
  },
  "language_info": {
   "codemirror_mode": {
    "name": "ipython",
    "version": 3
   },
   "file_extension": ".py",
   "mimetype": "text/x-python",
   "name": "python",
   "nbconvert_exporter": "python",
   "pygments_lexer": "ipython3",
   "version": "3.9.9"
  },
  "orig_nbformat": 4
 },
 "nbformat": 4,
 "nbformat_minor": 2
}
