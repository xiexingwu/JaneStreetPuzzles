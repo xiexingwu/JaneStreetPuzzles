{
 "cells": [
  {
   "cell_type": "markdown",
   "metadata": {},
   "source": [
    "# README\n",
    "\n",
    "This document can be run directly to solve the problem. It contains the key mathematical theory and corresponding code snippets. \n",
    "\n",
    "Also consider running `main.py` interactively to be able to check the solution, i.e. `python -i main.py`."
   ]
  },
  {
   "cell_type": "markdown",
   "metadata": {},
   "source": [
    "#### Load CP-SAT and itertools"
   ]
  },
  {
   "cell_type": "code",
   "execution_count": 1,
   "metadata": {},
   "outputs": [],
   "source": [
    "from ortools.linear_solver import pywraplp\n",
    "solver = pywraplp.Solver.CreateSolver('SCIP')\n",
    "\n",
    "from itertools import combinations"
   ]
  },
  {
   "cell_type": "markdown",
   "metadata": {},
   "source": [
    "#### Problem setup\n",
    "**Setup problem indexing**\n",
    "* Cells are indexed 1 to 28.\n",
    "* Each almost magic square consists of 9 indices.\n",
    "* slices to check the sums are pre-generated for convenience."
   ]
  },
  {
   "cell_type": "code",
   "execution_count": 2,
   "metadata": {},
   "outputs": [],
   "source": [
    "# indexes\n",
    "#      1,  2,  3\n",
    "#      4,  5,  6,  7,  8\n",
    "#  9, 10, 11, 12, 13, 14\n",
    "# 15, 16, 17, 18, 19, 20\n",
    "# 21, 22, 23, 24, 25\n",
    "#         26, 27, 28 \n",
    "#\n",
    "# Square 1\n",
    "sq1 = [\n",
    "     1, 2, 3,\n",
    "     4, 5, 6,\n",
    "    10,11,12]\n",
    "sq2 = [\n",
    "     6, 7, 8,\n",
    "    12,13,14,\n",
    "    18,19,20]\n",
    "sq3 = [\n",
    "     9,10,11,\n",
    "    15,16,17,\n",
    "    21,22,23]\n",
    "sq4 = [\n",
    "    17,18,19,\n",
    "    23,24,25,\n",
    "    26,27,28]\n",
    "sqs = [sq1, sq2, sq3, sq4]\n",
    "\n",
    "horzs = [slice(3*i, 3*i+3  ) for i in range(3)] # horizontal\n",
    "verts = [slice(  i,     9,3) for i in range(3)] # vertical\n",
    "diags = [slice(  0,     9,4), # main diag\n",
    "         slice(  2,     7,2)] # off diag\n"
   ]
  },
  {
   "cell_type": "markdown",
   "metadata": {},
   "source": [
    "#### Setup variables:\n",
    "* $x_{n} = v$ $\\Leftrightarrow$ cell $n$ contains value $v$.\n",
    "* $b_{n_1, n_2} = 1$ $\\Leftrightarrow$ $x_{n_1}$ > $x_{n_2}$; 0 otherwise."
   ]
  },
  {
   "cell_type": "code",
   "execution_count": 3,
   "metadata": {},
   "outputs": [],
   "source": [
    "## Define and save variables\n",
    "infinity = 1828 #solver.infinity()\n",
    "nrange = [i+1 for i in range(28)]\n",
    "x = {}\n",
    "for n in nrange:\n",
    "    x[n] = solver.IntVar(1., infinity, f'x[{n}]')\n",
    "b = {}\n",
    "for n1, n2 in combinations(nrange, 2):\n",
    "        b[n1,n2] = solver.BoolVar(f'b[{n1},{n2}]')"
   ]
  },
  {
   "cell_type": "markdown",
   "metadata": {},
   "source": [
    "#### Uniqueness constraint\n",
    "No two $x_n$ can have the same value. We can do this using $b_{n_1, n_2}$ in conjunction with a big-$M$ penalty.\n",
    "* $x_{n1} \\geq x_{n2} + b_{n_1, n_2} - M(1-b_{n_1, n_2})$\n",
    "* $x_{n2} \\geq x_{n1} + (1-b_{n_1, n_2}) - Mb_{n_1, n_2}$\n",
    "\n",
    "Note that if $x_{n1} > x_{n2}$, the constraints evaluate to:\n",
    "* $x_{n1} \\geq x_{n2} + 1 $\n",
    "* $x_{n2} \\geq x_{n1} - M$\n",
    "\n",
    "It follows that $M$ should be much bigger than the largest possible value of $x$."
   ]
  },
  {
   "cell_type": "code",
   "execution_count": 4,
   "metadata": {},
   "outputs": [],
   "source": [
    "## Uniqueness constraints\n",
    "M = 1828 # max M\n",
    "for n1, n2 in combinations(nrange, 2):\n",
    "        solver.Add(x[n1] >= x[n2] +    b[n1,n2]  - M*(1-b[n1,n2]))\n",
    "        solver.Add(x[n2] >= x[n1] + (1-b[n1,n2]) - M*   b[n1,n2] )\n"
   ]
  },
  {
   "cell_type": "markdown",
   "metadata": {},
   "source": [
    "### Sum constraints (for each almost magic square)\n",
    "* For each square, we first create expressions for all horizontal, diagonal sums. \n",
    "* Given any two sum, the absolute value of their difference must be no more than 1. While the absolute value function is nonlinear, we can write the constraint piece-wise, i.e. in two parts:\n",
    "    * $sum_1 - sum_2 \\leq 1$\n",
    "    * $sum_1 - sum_2 \\geq -1$\n",
    "* We should also not bother looking for worse solutions than the example one\n",
    "    * $\\sum_n x_n \\leq 1828$"
   ]
  },
  {
   "cell_type": "code",
   "execution_count": 5,
   "metadata": {},
   "outputs": [
    {
     "data": {
      "text/plain": [
       "<ortools.linear_solver.pywraplp.Constraint; proxy of <Swig Object of type 'operations_research::MPConstraint *' at 0x110425150> >"
      ]
     },
     "execution_count": 5,
     "metadata": {},
     "output_type": "execute_result"
    }
   ],
   "source": [
    "## Sums constraints\n",
    "for sq in sqs:\n",
    "    sums = [sum(x[n] for n in sq[sum_slice]) for sum_slice in horzs + verts + diags]\n",
    "    for sum1, sum2 in combinations(sums, 2):\n",
    "        solver.Add(sum1 - sum2 <=  1)\n",
    "        solver.Add(sum1 - sum2 >= -1)\n",
    "\n",
    "solver.Add(sum(x[n] for n in nrange) <= 1828)"
   ]
  },
  {
   "cell_type": "markdown",
   "metadata": {},
   "source": [
    "#### Objective function\n",
    "Minimize $\\sum_n x_n$"
   ]
  },
  {
   "cell_type": "code",
   "execution_count": 6,
   "metadata": {},
   "outputs": [],
   "source": [
    "solver.Minimize(sum(x[n] for n in nrange))\n",
    "status = solver.Solve()"
   ]
  },
  {
   "cell_type": "code",
   "execution_count": 7,
   "metadata": {},
   "outputs": [
    {
     "name": "stdout",
     "output_type": "stream",
     "text": [
      "Solution:\n",
      "Objective value = 470.0000000000071\n"
     ]
    }
   ],
   "source": [
    "if status == pywraplp.Solver.OPTIMAL:\n",
    "    print('Solution:')\n",
    "    print('Objective value =', solver.Objective().Value())\n",
    "    X = []\n",
    "    for n in nrange:\n",
    "        X.append(x[n].solution_value())\n",
    "else:\n",
    "    print('The problem does not have an optimal solution.')"
   ]
  },
  {
   "cell_type": "code",
   "execution_count": 8,
   "metadata": {},
   "outputs": [
    {
     "data": {
      "text/plain": [
       "[26.0,\n",
       " 2.0,\n",
       " 34.0,\n",
       " 29.0,\n",
       " 21.0,\n",
       " 13.0,\n",
       " 4.0,\n",
       " 18.0,\n",
       " 24.0,\n",
       " 7.0,\n",
       " 39.0,\n",
       " 16.0,\n",
       " 12.0,\n",
       " 6.0,\n",
       " 37.0,\n",
       " 23.0,\n",
       " 9.0,\n",
       " 5.0,\n",
       " 19.0,\n",
       " 10.0,\n",
       " 8.0,\n",
       " 40.0,\n",
       " 22.0,\n",
       " 11.0,\n",
       " 1.0,\n",
       " 3.0,\n",
       " 17.0,\n",
       " 14.0]"
      ]
     },
     "execution_count": 8,
     "metadata": {},
     "output_type": "execute_result"
    }
   ],
   "source": [
    "X"
   ]
  }
 ],
 "metadata": {
  "interpreter": {
   "hash": "9a43435caae60fea53d11a82b753bd3c29acb94fa6e3d434f7e13e54a27a6879"
  },
  "kernelspec": {
   "display_name": "Python 3.9.9 64-bit ('3.9.9')",
   "language": "python",
   "name": "python3"
  },
  "language_info": {
   "codemirror_mode": {
    "name": "ipython",
    "version": 3
   },
   "file_extension": ".py",
   "mimetype": "text/x-python",
   "name": "python",
   "nbconvert_exporter": "python",
   "pygments_lexer": "ipython3",
   "version": "3.9.9"
  },
  "orig_nbformat": 4
 },
 "nbformat": 4,
 "nbformat_minor": 2
}
