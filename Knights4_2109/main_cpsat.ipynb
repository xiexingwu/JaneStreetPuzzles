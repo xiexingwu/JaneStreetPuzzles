{
 "cells": [
  {
   "cell_type": "markdown",
   "metadata": {},
   "source": [
    "# README\n",
    "This document does not correctly solve the problem, since the sum of values in grids is hard-coded. \n",
    "\n",
    "Instead, see `main.py`, where all valid grid sums are generated, and `KnightsMoveSolver.py` is used to place the values according to the gridsums."
   ]
  },
  {
   "cell_type": "markdown",
   "metadata": {},
   "source": [
    "### Trying to work out valid grid sums\n",
    "The matrix is filled with $1$, $2$, $\\dots$, $N$, for some unkown $N$, summing to $N(N-1)/2$. \n",
    "\n",
    "* Since 33 is already filled in, $N \\geq 33$. \n",
    "* Since the matrix is $10 \\times 10$, then $N \\leq 100$\n",
    "* There are 17 grids, so $N(N-1)$ should be divisible by 17. \n",
    "* There is a 2-grid near the bottom left corner (yellow, grid 14 in the code).\n",
    "    * If both values are filled, then the sum must be odd due to parity arguments. \n",
    "        * *don't think this is useful*\n",
    "    * If both values are filled, then the maximum grid-sum is at most 100+99 = 199.\n",
    "Valid combinations\n",
    "\n",
    "| $N$ | $N-1$ | $N (N-1)/2$ | grid sum |\n",
    "|-----|-------|-------------|----------|\n",
    "| 34  |  33   |  561        | 33       |\n",
    "| 35  |  34   |  595        | 35       |\n",
    "| 51  |  50   |  1275       | 75       |\n",
    "| ... |\n"
   ]
  },
  {
   "cell_type": "markdown",
   "metadata": {},
   "source": [
    "#### Load CP-SAT and test values"
   ]
  },
  {
   "cell_type": "code",
   "execution_count": 31,
   "metadata": {},
   "outputs": [],
   "source": [
    "from ortools.sat.python import cp_model\n",
    "model = cp_model.CpModel()\n",
    "solver = cp_model.CpSolver()\n",
    "\n",
    "from tests import ex_vals_list, ex_vals, ex_grid\n",
    "vals_list = ex_vals_list\n",
    "grid = ex_grid\n",
    "\n",
    "N, _ = grid.shape\n"
   ]
  },
  {
   "cell_type": "markdown",
   "metadata": {},
   "source": [
    "#### Problem setup\n",
    "**Grid sum**\n",
    "* The matrix is filled with $1$, $2$, $\\dots$ up to some unknown $N$.\n",
    "* The sum of all values is $\\sum_{i=1}^{N} i = \\frac{N (N-1)}{2}$."
   ]
  },
  {
   "cell_type": "code",
   "execution_count": null,
   "metadata": {},
   "outputs": [],
   "source": [
    "ngrids = grid.max()\n",
    "\n",
    "gridsum_target = 15 if N == 5 else 75 # hard-coded\n",
    "\n",
    "nrange = [n for n in range(N**2)] # (0 to N^2-1)\n",
    "vrange = [v for v in range(N**2+1)] # (0 to N^2)\n",
    "Grange = [g+1 for g in range(ngrids)] # grid index"
   ]
  },
  {
   "cell_type": "markdown",
   "metadata": {},
   "source": [
    "#### Utility for Knight's moves\n",
    "Setup matrix $e_{n_1, n_2}$ to indicate whether cells $n_1$ and $n_2$ are within a knight's move with each other."
   ]
  },
  {
   "cell_type": "code",
   "execution_count": 32,
   "metadata": {},
   "outputs": [],
   "source": [
    "def n2ij(n):\n",
    "    i = n // N\n",
    "    j = n - i*N\n",
    "    return (i,j)\n",
    "def ij2n(i,j):\n",
    "    return i*N + j\n",
    "\n",
    "def isKnightsMove(n1, n2):\n",
    "    '''\n",
    "    True if n1 and n2 are knights move away\n",
    "    '''\n",
    "    i1, j1 = n2ij(n1)\n",
    "    i2, j2 = n2ij(n2)\n",
    "    di = abs(i2-i1)\n",
    "    dj = abs(j2-j1)\n",
    "    if (di == 2 and dj == 1) or (di == 1 and dj == 2):\n",
    "        return 1\n",
    "    else:\n",
    "        return 0\n",
    "\n",
    "e = [[isKnightsMove(n1,n2) if n1 != n2 else 0 for n1 in nrange] for n2 in nrange]"
   ]
  },
  {
   "cell_type": "markdown",
   "metadata": {},
   "source": [
    "#### Setup variables:\n",
    "* $x_{n,v} = 1$ $\\Leftrightarrow$ cell $n$ (row-major 0-based indexing) contains value $v$.\n",
    "    * Note that $v=0$ is used to indicate that no value is in a cell."
   ]
  },
  {
   "cell_type": "code",
   "execution_count": 33,
   "metadata": {},
   "outputs": [],
   "source": [
    "## Define and save variables\n",
    "x = {}\n",
    "for n in nrange:\n",
    "    for v in vrange:\n",
    "        x[n,v] = model.NewBoolVar(f'x[{n},{v}]')\n",
    "# f = {}\n",
    "# for n1, n2 in product(nrange, nrange):\n",
    "#     f[n1,n2] = model.NewBoolVar(f'f[{n1},{n2}]')\n"
   ]
  },
  {
   "cell_type": "markdown",
   "metadata": {},
   "source": [
    "#### Uniqueness constraints\n",
    "* Each cell $n$ should only be associated with one value $v$.\n",
    "* Each value $v>0$ should only appear at most once."
   ]
  },
  {
   "cell_type": "code",
   "execution_count": 34,
   "metadata": {},
   "outputs": [],
   "source": [
    "## UNIQUENESS constraints\n",
    "# each (n) has exactly one (v) (including 0)\n",
    "for n in nrange:\n",
    "    model.AddExactlyOne(x[n,v] for v in vrange)\n",
    "# each (v>0) allocated at exactly one (n)\n",
    "for v in vrange:\n",
    "    if v > 0:\n",
    "        model.AddAtMostOne(x[n,v] for n in nrange)\n"
   ]
  },
  {
   "cell_type": "markdown",
   "metadata": {},
   "source": [
    "### Knight's move constraints\n",
    "* Consider a tuple $(n,v)$. \n",
    "    * If $x_{n,v} = 1$, then $\\sum_{n'} x_{n',v+1}$ should be $0$ for all $n'$ **not** within Knight's move of $n$ (i.e. no invalid step taken).\n",
    "    * If $x_{n,v} = 0$, then $\\sum_{n'} x_{n',v+1}$ can be either $0$ or $1$, i.e. found or not found, doesn't really matter $\\Leftrightarrow$ no real constraint applied on where $v+1$ occurs.\n",
    "\n",
    "    The following equation satisfies the above constraints:\n",
    "    * $\\sum_{n'} x_{n', v+1} \\leq 1-x_{n,v}$ for all $n$ and all $v \\in [1, N^2-1]$, where $n'$ is **not** within Knight's move of $n$.\n",
    "\n",
    "* If $v$ exists, then so should $v-1$.\n",
    "    * If $x_{n,v} = 1$, then $\\sum_n x_{n, v-1} = 1$ for all $v-1 \\geq 1$.\n",
    "    * If $x_{n,v} = 0$, then $\\sum_n x_{n, v-1}$ can be either $0$ or $1$.\n",
    "\n",
    "    The following equation satisfies the above constraints:\n",
    "    * $\\sum_{n} x_{n, v-1} \\geq x_{n,v}$ for all $n$ and all $v \\in [2, N^2]$."
   ]
  },
  {
   "cell_type": "code",
   "execution_count": 35,
   "metadata": {},
   "outputs": [],
   "source": [
    "## Knight's move constraint\n",
    "for n in nrange:\n",
    "    for v in vrange:\n",
    "        if v >= 1 and v <= N**2-1:\n",
    "            nn = [i for i in nrange if i != n and not e[i][n]]\n",
    "            model.Add(sum(x[i,v+1] for i in nn) <= 1 - x[n,v])\n",
    "        if v >= 2 and v <= N**2:\n",
    "            model.Add(sum(x[i, v-1] for i in nrange) >= x[n,v])\n",
    "# each (n1) steps to at most one (n2)\n",
    "# for n1 in nrange:\n",
    "#     model.AddAtMostOne(f[n1,n2] for n2 in nrange)\n",
    "#     model.AddAtMostOne(f[n2,n1] for n2 in nrange) # likewise from\n",
    "\n",
    "# # feasible steps\n",
    "# model.Add(f[n1,n2] <= e[n1,n2] for n1, n2 in product(nrange, nrange))\n",
    "\n",
    "# v+1, v are bound by knights moves\n",
    "# \n"
   ]
  },
  {
   "cell_type": "markdown",
   "metadata": {},
   "source": [
    "#### Instance constraints\n",
    "* Cell $n'$ contains value $v'$:\n",
    "    * $x_{n', v'} = 1$\n",
    "* Sum of values in each sub-grid $g'$ sums to the correct value:\n",
    "    * $\\sum_{n' \\in g} \\sum_v v x_{n',v} = grid\\_sum$ "
   ]
  },
  {
   "cell_type": "code",
   "execution_count": 36,
   "metadata": {},
   "outputs": [],
   "source": [
    "# prescribed values\n",
    "for (i,j), val in vals_list:\n",
    "    model.Add(x[ij2n(i,j),val] == 1)\n",
    "# correct grid sum\n",
    "for g in Grange:\n",
    "    subgrid_sum = sum(v*x[n,v] for n in nrange for v in nrange if grid[n2ij(n)] == g)\n",
    "    model.Add(subgrid_sum == gridsum_target)\n",
    "\n",
    "# SOLVE\n",
    "status = solver.Solve(model)"
   ]
  }
 ],
 "metadata": {
  "interpreter": {
   "hash": "9a43435caae60fea53d11a82b753bd3c29acb94fa6e3d434f7e13e54a27a6879"
  },
  "kernelspec": {
   "display_name": "Python 3.9.9 64-bit ('3.9.9')",
   "language": "python",
   "name": "python3"
  },
  "language_info": {
   "codemirror_mode": {
    "name": "ipython",
    "version": 3
   },
   "file_extension": ".py",
   "mimetype": "text/x-python",
   "name": "python",
   "nbconvert_exporter": "python",
   "pygments_lexer": "ipython3",
   "version": "3.9.9"
  },
  "orig_nbformat": 4
 },
 "nbformat": 4,
 "nbformat_minor": 2
}
